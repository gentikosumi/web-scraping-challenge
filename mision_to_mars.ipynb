{
 "cells": [
  {
   "cell_type": "code",
   "execution_count": 1,
   "metadata": {},
   "outputs": [],
   "source": [
    "# Dependencies\n",
    "import pandas as pd\n",
    "from bs4 import BeautifulSoup\n",
    "import requests\n",
    "from splinter import Browser\n",
    "from splinter.exceptions import ElementDoesNotExist"
   ]
  },
  {
   "cell_type": "markdown",
   "metadata": {},
   "source": [
    "# Mars News"
   ]
  },
  {
   "cell_type": "code",
   "execution_count": 2,
   "metadata": {},
   "outputs": [],
   "source": [
    "url = 'https://mars.nasa.gov/news/'"
   ]
  },
  {
   "cell_type": "code",
   "execution_count": 3,
   "metadata": {},
   "outputs": [],
   "source": [
    "# Retrieve page with the requests module\n",
    "response = requests.get(url)"
   ]
  },
  {
   "cell_type": "code",
   "execution_count": 4,
   "metadata": {},
   "outputs": [],
   "source": [
    "# Create BeautifulSoup object; parse with 'html.parser'\n",
    "soup = BeautifulSoup(response.text, 'html.parser')"
   ]
  },
  {
   "cell_type": "code",
   "execution_count": 5,
   "metadata": {},
   "outputs": [],
   "source": [
    "# Examine the results, then determine element that contains sought info\n",
    "# print(soup.prettify())"
   ]
  },
  {
   "cell_type": "code",
   "execution_count": 6,
   "metadata": {},
   "outputs": [
    {
     "name": "stdout",
     "output_type": "stream",
     "text": [
      "6\n"
     ]
    }
   ],
   "source": [
    "# Extract title text\n",
    "news = soup.find_all('div', class_=\"content_title\")\n",
    "print(len (news))"
   ]
  },
  {
   "cell_type": "code",
   "execution_count": 7,
   "metadata": {},
   "outputs": [
    {
     "data": {
      "text/plain": [
       "\"\\n10.9 Million Names Now Aboard NASA's Perseverance Mars Rover\\n\""
      ]
     },
     "execution_count": 7,
     "metadata": {},
     "output_type": "execute_result"
    }
   ],
   "source": [
    "# A blank list to hold the headlines\n",
    "# news_title = []\n",
    "# Loop over div elements\n",
    "# for new in news:\n",
    "#     # If new element has an anchor...\n",
    "#     if (new.a):\n",
    "#         # And the anchor has non-blank text...\n",
    "#         if (new.a.text):\n",
    "#             # Append the new to the list\n",
    "#             news_title.append(new)\n",
    "news_title = soup.find('div', class_=\"content_title\").find('a').text\n",
    "news_title"
   ]
  },
  {
   "cell_type": "code",
   "execution_count": 8,
   "metadata": {},
   "outputs": [],
   "source": [
    "# # Print only the headlines\n",
    "# for x in range(6):\n",
    "#     print(news_title[x].text)        \n"
   ]
  },
  {
   "cell_type": "code",
   "execution_count": 9,
   "metadata": {},
   "outputs": [],
   "source": [
    "# Extract description text\n",
    "results = soup.find_all('div', class_=\"rollover_description_inner\")\n",
    "# print(results)"
   ]
  },
  {
   "cell_type": "code",
   "execution_count": 10,
   "metadata": {},
   "outputs": [
    {
     "data": {
      "text/plain": [
       "\"\\nAs part of NASA's 'Send Your Name to Mars' campaign, they've been stenciled onto three microchips along with essays from NASA's 'Name the Rover' contest. Next stop: Mars.\\n\""
      ]
     },
     "execution_count": 10,
     "metadata": {},
     "output_type": "execute_result"
    }
   ],
   "source": [
    "# A blank list to hold the descriptions\n",
    "news_p = []\n",
    "# Loop over div elements\n",
    "for result in results:\n",
    "    if (result.text):\n",
    "        # Append the description to the list\n",
    "        news_p.append(result)\n",
    "news_p = soup.find('div', class_=\"rollover_description_inner\").text\n",
    "news_p"
   ]
  },
  {
   "cell_type": "code",
   "execution_count": 11,
   "metadata": {},
   "outputs": [],
   "source": [
    "# # Print only the description\n",
    "# for x in range(6):\n",
    "#     print(news_p[x].text)"
   ]
  },
  {
   "cell_type": "markdown",
   "metadata": {},
   "source": [
    "# JPL Mars Space Images - Featured Image"
   ]
  },
  {
   "cell_type": "code",
   "execution_count": 12,
   "metadata": {},
   "outputs": [],
   "source": [
    "# https://splinter.readthedocs.io/en/latest/drivers/chrome.html\n",
    "!which chromedriver"
   ]
  },
  {
   "cell_type": "code",
   "execution_count": 13,
   "metadata": {},
   "outputs": [],
   "source": [
    "executable_path = {'executable_path': '/usr/local/bin/chromedriver'}\n",
    "browser = Browser('chrome', **executable_path, headless=False)"
   ]
  },
  {
   "cell_type": "code",
   "execution_count": 14,
   "metadata": {},
   "outputs": [],
   "source": [
    "url = 'https://www.jpl.nasa.gov/spaceimages/?search=&category=Mars'\n",
    "browser.visit(url)"
   ]
  },
  {
   "cell_type": "code",
   "execution_count": 15,
   "metadata": {},
   "outputs": [],
   "source": [
    "# Retrieve page with the requests module\n",
    "response = requests.get(url)"
   ]
  },
  {
   "cell_type": "code",
   "execution_count": 16,
   "metadata": {},
   "outputs": [],
   "source": [
    "# Create BeautifulSoup object; parse with 'html.parser'\n",
    "soup = BeautifulSoup(response.text, 'html.parser')\n",
    "# print(soup.prettify())"
   ]
  },
  {
   "cell_type": "code",
   "execution_count": 17,
   "metadata": {},
   "outputs": [
    {
     "data": {
      "text/plain": [
       "'https://www.jpl.nasa.gov//spaceimages/images/mediumsize/PIA19346_ip.jpg'"
      ]
     },
     "execution_count": 17,
     "metadata": {},
     "output_type": "execute_result"
    }
   ],
   "source": [
    "# Examine the results, then determine element that contains sought info\n",
    "# print(soup.prettify())\n",
    "\n",
    "articles = soup.find_all('a', class_=\"fancybox\")\n",
    "articles\n",
    "img_list = []\n",
    "url_list = []\n",
    "featured_image = []\n",
    "for article in articles:\n",
    "    img_url = article[\"data-fancybox-href\"]\n",
    "    url_list.append(img_url)\n",
    "#     print(url_list)\n",
    "\n",
    "featured_image = ['https://www.jpl.nasa.gov/' + url for url in url_list ]\n",
    "featured_image_url = featured_image[0]\n",
    "featured_image_url"
   ]
  },
  {
   "cell_type": "markdown",
   "metadata": {},
   "source": [
    "# Mars Weather\n"
   ]
  },
  {
   "cell_type": "code",
   "execution_count": 18,
   "metadata": {},
   "outputs": [],
   "source": [
    "url = 'https://twitter.com/marswxreport?lang=en'\n",
    "browser.visit(url)"
   ]
  },
  {
   "cell_type": "code",
   "execution_count": 19,
   "metadata": {},
   "outputs": [],
   "source": [
    "# Retrieve page with the requests module\n",
    "response = requests.get(url)"
   ]
  },
  {
   "cell_type": "code",
   "execution_count": 20,
   "metadata": {},
   "outputs": [],
   "source": [
    "# Create BeautifulSoup object; parse with 'html.parser'\n",
    "soup = BeautifulSoup(response.text, 'html.parser')\n",
    "# print(soup.prettify())"
   ]
  },
  {
   "cell_type": "code",
   "execution_count": 21,
   "metadata": {},
   "outputs": [
    {
     "name": "stdout",
     "output_type": "stream",
     "text": [
      "20\n"
     ]
    }
   ],
   "source": [
    "results = soup.find_all('p', class_=\"TweetTextSize\")\n",
    "print(len (results))"
   ]
  },
  {
   "cell_type": "code",
   "execution_count": 24,
   "metadata": {},
   "outputs": [
    {
     "name": "stdout",
     "output_type": "stream",
     "text": [
      "[<p class=\"TweetTextSize TweetTextSize--normal js-tweet-text tweet-text\" data-aria-label-part=\"0\" lang=\"en\">If you submitted your name, it’s aboard the Perseverance Mars Rover now<a class=\"twitter-timeline-link u-hidden\" data-expanded-url=\"https://mars.nasa.gov/news/8634/109-million-names-now-aboard-nasas-perseverance-mars-rover\" dir=\"ltr\" href=\"https://t.co/6Q8EipGBwu\" rel=\"nofollow noopener\" target=\"_blank\" title=\"https://mars.nasa.gov/news/8634/109-million-names-now-aboard-nasas-perseverance-mars-rover\"><span class=\"tco-ellipsis\"></span><span class=\"invisible\">https://</span><span class=\"js-display-url\">mars.nasa.gov/news/8634/109-</span><span class=\"invisible\">million-names-now-aboard-nasas-perseverance-mars-rover</span><span class=\"tco-ellipsis\"><span class=\"invisible\"> </span>…</span></a></p>, <p class=\"TweetTextSize TweetTextSize--normal js-tweet-text tweet-text\" data-aria-label-part=\"0\" lang=\"en\">Fred Calef (<a class=\"twitter-atreply pretty-link js-nav\" data-mentioned-user-id=\"55356886\" dir=\"ltr\" href=\"/cirquelar\"><s>@</s><b>cirquelar</b></a>) keeper of the Martian maps talks other worldly cartography on the latest episode of the <a class=\"twitter-atreply pretty-link js-nav\" data-mentioned-user-id=\"78744277\" dir=\"ltr\" href=\"/TWIScience\"><s>@</s><b>TWIScience</b></a> podcast<a class=\"twitter-timeline-link u-hidden\" data-expanded-url=\"https://www.twis.org/18-april-2020-episode-765-who-has-the-mars-maps/\" dir=\"ltr\" href=\"https://t.co/jpYRtPd2GX\" rel=\"nofollow noopener\" target=\"_blank\" title=\"https://www.twis.org/18-april-2020-episode-765-who-has-the-mars-maps/\"><span class=\"tco-ellipsis\"></span><span class=\"invisible\">https://www.</span><span class=\"js-display-url\">twis.org/18-april-2020-</span><span class=\"invisible\">episode-765-who-has-the-mars-maps/</span><span class=\"tco-ellipsis\"><span class=\"invisible\"> </span>…</span></a></p>, <p class=\"TweetTextSize TweetTextSize--normal js-tweet-text tweet-text\" data-aria-label-part=\"0\" lang=\"en\">Y’all sing Happy Birthday or Sweet Caroline, I’m doing this, in George Diller’s voice<a class=\"twitter-timeline-link u-hidden\" data-pre-embedded=\"true\" dir=\"ltr\" href=\"https://t.co/rLQOcLKHNy\">pic.twitter.com/rLQOcLKHNy</a></p>, <p class=\"TweetTextSize TweetTextSize--normal js-tweet-text tweet-text\" data-aria-label-part=\"0\" lang=\"en\"><img alt=\"🌎\" aria-label=\"Emoji: Earth globe americas\" class=\"Emoji Emoji--forText\" draggable=\"false\" src=\"https://abs.twimg.com/emoji/v2/72x72/1f30e.png\" title=\"Earth globe americas\"/><img alt=\"🗓\" aria-label=\"Emoji: Spiral calendar pad\" class=\"Emoji Emoji--forText\" draggable=\"false\" src=\"https://abs.twimg.com/emoji/v2/72x72/1f5d3.png\" title=\"Spiral calendar pad\"/> T-34 days until <a class=\"twitter-hashtag pretty-link js-nav\" data-query-source=\"hashtag_click\" dir=\"ltr\" href=\"/hashtag/EarthDay50?src=hash\"><s>#</s><b>EarthDay50</b></a>\n",
      "It’s the <a class=\"twitter-hashtag pretty-link js-nav\" data-query-source=\"hashtag_click\" dir=\"ltr\" href=\"/hashtag/FirstDayOfSpring?src=hash\"><s>#</s><b>FirstDayOfSpring</b></a> <img alt=\"🌱\" aria-label=\"Emoji: Seedling\" class=\"Emoji Emoji--forText\" draggable=\"false\" src=\"https://abs.twimg.com/emoji/v2/72x72/1f331.png\" title=\"Seedling\"/> in the Northern Hemisphere and for some, that means planting season. Tools originally designed for space can help farmers grow crops <img alt=\"🌾\" aria-label=\"Emoji: Ear of rice\" class=\"Emoji Emoji--forText\" draggable=\"false\" src=\"https://abs.twimg.com/emoji/v2/72x72/1f33e.png\" title=\"Ear of rice\"/> here on Earth. \n",
      "<a class=\"twitter-timeline-link\" data-expanded-url=\"https://go.nasa.gov/2U0dXBk\" dir=\"ltr\" href=\"https://t.co/oFFMrf14h0\" rel=\"nofollow noopener\" target=\"_blank\" title=\"https://go.nasa.gov/2U0dXBk\"><span class=\"tco-ellipsis\"></span><span class=\"invisible\">https://</span><span class=\"js-display-url\">go.nasa.gov/2U0dXBk</span><span class=\"invisible\"></span><span class=\"tco-ellipsis\"><span class=\"invisible\"> </span></span></a><a class=\"twitter-timeline-link u-hidden\" data-pre-embedded=\"true\" dir=\"ltr\" href=\"https://t.co/9KCQ5RzN5A\">pic.twitter.com/9KCQ5RzN5A</a></p>, <p class=\"TweetTextSize TweetTextSize--normal js-tweet-text tweet-text\" data-aria-label-part=\"0\" lang=\"en\">Happy <a class=\"twitter-hashtag pretty-link js-nav\" data-query-source=\"hashtag_click\" dir=\"ltr\" href=\"/hashtag/StPatricksDay?src=hash\"><s>#</s><b>StPatricksDay</b></a>!\n",
      "\n",
      "To celebrate, here's an image of Olympus Mons on <a class=\"twitter-hashtag pretty-link js-nav\" data-query-source=\"hashtag_click\" dir=\"ltr\" href=\"/hashtag/Mars?src=hash\"><s>#</s><b>Mars</b></a>—a volcano so big that, if you drove the equivalent distance from Malin Head to Mizen Head in Ireland, you'd *still* be on that damned volcano.<a class=\"twitter-timeline-link u-hidden\" data-pre-embedded=\"true\" dir=\"ltr\" href=\"https://t.co/4BB13WBBiq\">pic.twitter.com/4BB13WBBiq</a></p>, <p class=\"TweetTextSize TweetTextSize--normal js-tweet-text tweet-text\" data-aria-label-part=\"0\" lang=\"en\">While the Smithsonian is closed, we can peruse the National <a class=\"twitter-atreply pretty-link js-nav\" data-mentioned-user-id=\"14848513\" dir=\"ltr\" href=\"/airandspace\"><s>@</s><b>airandspace</b></a> Museum's online collection,  Here's one of my favorites: <a class=\"twitter-timeline-link\" data-expanded-url=\"https://airandspace.si.edu/collections/\" dir=\"ltr\" href=\"https://t.co/pol420b4Rm\" rel=\"nofollow noopener\" target=\"_blank\" title=\"https://airandspace.si.edu/collections/\"><span class=\"tco-ellipsis\"></span><span class=\"invisible\">https://</span><span class=\"js-display-url\">airandspace.si.edu/collections/</span><span class=\"invisible\"></span><span class=\"tco-ellipsis\"><span class=\"invisible\"> </span></span></a><a class=\"twitter-timeline-link u-hidden\" data-pre-embedded=\"true\" dir=\"ltr\" href=\"https://t.co/h9T5dcBSrx\">pic.twitter.com/h9T5dcBSrx</a></p>, <p class=\"TweetTextSize TweetTextSize--normal js-tweet-text tweet-text\" data-aria-label-part=\"0\" lang=\"en\">A bit of good news from <a class=\"twitter-hashtag pretty-link js-nav\" data-query-source=\"hashtag_click\" dir=\"ltr\" href=\"/hashtag/Mars?src=hash\"><s>#</s><b>Mars</b></a>: our new approach of using the robotic arm to push the mole appears to be working! The teams <a class=\"twitter-atreply pretty-link js-nav\" data-mentioned-user-id=\"19802879\" dir=\"ltr\" href=\"/NASAJPL\"><s>@</s><b>NASAJPL</b></a>/<a class=\"twitter-atreply pretty-link js-nav\" data-mentioned-user-id=\"86070159\" dir=\"ltr\" href=\"/DLR_en\"><s>@</s><b>DLR_en</b></a> are excited to see the images and plan to continue this approach over the next few weeks. <img alt=\"💪\" aria-label=\"Emoji: Flexed biceps\" class=\"Emoji Emoji--forText\" draggable=\"false\" src=\"https://abs.twimg.com/emoji/v2/72x72/1f4aa.png\" title=\"Flexed biceps\"/> <a class=\"twitter-hashtag pretty-link js-nav\" data-query-source=\"hashtag_click\" dir=\"ltr\" href=\"/hashtag/SaveTheMole?src=hash\"><s>#</s><b>SaveTheMole</b></a>  \n",
      "\n",
      "FAQ: <a class=\"twitter-timeline-link\" data-expanded-url=\"http://go.nasa.gov/HP3FAQ\" dir=\"ltr\" href=\"https://t.co/wnhp7c1gPT\" rel=\"nofollow noopener\" target=\"_blank\" title=\"http://go.nasa.gov/HP3FAQ\"><span class=\"tco-ellipsis\"></span><span class=\"invisible\">http://</span><span class=\"js-display-url\">go.nasa.gov/HP3FAQ</span><span class=\"invisible\"></span><span class=\"tco-ellipsis\"><span class=\"invisible\"> </span></span></a><a class=\"twitter-timeline-link u-hidden\" data-pre-embedded=\"true\" dir=\"ltr\" href=\"https://t.co/5wYyn7IwVo\">pic.twitter.com/5wYyn7IwVo</a></p>, <p class=\"TweetTextSize TweetTextSize--normal js-tweet-text tweet-text\" data-aria-label-part=\"0\" lang=\"en\">InSight sol 457 (2020-03-10) low -95.7ºC (-140.3ºF) high -9.1ºC (15.6ºF)\n",
      "winds from the SSE at 6.5 m/s (14.5 mph) gusting to 21.0 m/s (46.9 mph)\n",
      "pressure at 6.30 hPa<a class=\"twitter-timeline-link u-hidden\" data-pre-embedded=\"true\" dir=\"ltr\" href=\"https://t.co/2h0LKoSQrJ\">pic.twitter.com/2h0LKoSQrJ</a></p>, <p class=\"TweetTextSize TweetTextSize--normal js-tweet-text tweet-text\" data-aria-label-part=\"0\" lang=\"en\">InSight sol 456 (2020-03-08) low -94.6ºC (-138.3ºF) high -9.6ºC (14.7ºF)\n",
      "winds from the SSE at 5.8 m/s (12.9 mph) gusting to 20.2 m/s (45.2 mph)\n",
      "pressure at 6.30 hPa</p>, <p class=\"TweetTextSize TweetTextSize--normal js-tweet-text tweet-text\" data-aria-label-part=\"0\" lang=\"en\">Yep, this has been white balanced to closer match what we'd see on Earth. In reality, our eyes would see a redder hue to everything. Here's an example of what unprocessed, \"natural\", and \"balanced\" colours look like:<a class=\"twitter-timeline-link u-hidden\" data-pre-embedded=\"true\" dir=\"ltr\" href=\"https://t.co/FOBKIQkDkw\">pic.twitter.com/FOBKIQkDkw</a></p>, <p class=\"TweetTextSize TweetTextSize--normal js-tweet-text tweet-text\" data-aria-label-part=\"0\" lang=\"en\">InSight sol 455 (2020-03-08) low -95.4ºC (-139.8ºF) high -13.0ºC (8.5ºF)\n",
      "winds from the SSE at 6.0 m/s (13.5 mph) gusting to 20.7 m/s (46.2 mph)\n",
      "pressure at 6.40 hPa<a class=\"twitter-timeline-link u-hidden\" data-pre-embedded=\"true\" dir=\"ltr\" href=\"https://t.co/HrRcPTpSEQ\">pic.twitter.com/HrRcPTpSEQ</a></p>, <p class=\"TweetTextSize TweetTextSize--normal js-tweet-text tweet-text\" data-aria-label-part=\"0\" lang=\"en\">InSight sol 454 (2020-03-06) low -96.0ºC (-140.8ºF) high -12.7ºC (9.1ºF)\n",
      "winds from the SSE at 5.8 m/s (12.9 mph) gusting to 25.2 m/s (56.4 mph)\n",
      "pressure at 6.30 hPa<a class=\"twitter-timeline-link u-hidden\" data-pre-embedded=\"true\" dir=\"ltr\" href=\"https://t.co/SW2gBfJY3o\">pic.twitter.com/SW2gBfJY3o</a></p>, <p class=\"TweetTextSize TweetTextSize--normal js-tweet-text tweet-text\" data-aria-label-part=\"0\" lang=\"en\">InSight sol 453 (2020-03-05) low -95.1ºC (-139.1ºF) high -10.8ºC (12.6ºF)\n",
      "winds from the SSW at 6.0 m/s (13.3 mph) gusting to 21.4 m/s (47.9 mph)\n",
      "pressure at 6.30 hPa<a class=\"twitter-timeline-link u-hidden\" data-pre-embedded=\"true\" dir=\"ltr\" href=\"https://t.co/8nEk9RxzXk\">pic.twitter.com/8nEk9RxzXk</a></p>, <p class=\"TweetTextSize TweetTextSize--normal js-tweet-text tweet-text\" data-aria-label-part=\"0\" lang=\"en\">Congrats to 7th grader Alex Mather of Springfield, Virginia on the winning name, Perseverance and essay in the 2020 Mars Rover contest.<a class=\"twitter-timeline-link u-hidden\" data-pre-embedded=\"true\" dir=\"ltr\" href=\"https://t.co/8I7pTLopta\">pic.twitter.com/8I7pTLopta</a></p>, <p class=\"TweetTextSize TweetTextSize--normal js-tweet-text tweet-text\" data-aria-label-part=\"0\" lang=\"en\">Hi, I’m the rover formerly known as Mars 2020, please call me Perseverance, I’ll be heading to Mars in July with 7 instruments (including updated weather instruments) and 23 cameras.<a class=\"twitter-timeline-link u-hidden\" data-pre-embedded=\"true\" dir=\"ltr\" href=\"https://t.co/XDx5s0cI5t\">pic.twitter.com/XDx5s0cI5t</a></p>, <p class=\"TweetTextSize TweetTextSize--normal js-tweet-text tweet-text\" data-aria-label-part=\"0\" lang=\"en\">InSight sol 452 (2020-03-05) low -94.2ºC (-137.7ºF) high -9.2ºC (15.4ºF)\n",
      "winds from the SSW at 6.5 m/s (14.5 mph) gusting to 19.6 m/s (43.9 mph)\n",
      "pressure at 6.30 hPa<a class=\"twitter-timeline-link u-hidden\" data-pre-embedded=\"true\" dir=\"ltr\" href=\"https://t.co/oCMblxEv6O\">pic.twitter.com/oCMblxEv6O</a></p>, <p class=\"TweetTextSize TweetTextSize--normal js-tweet-text tweet-text\" data-aria-label-part=\"0\" lang=\"en\">Tour of the 1.8 Billion-Pixel Panoramic photo taken by the Curiosity Rover<a class=\"twitter-timeline-link u-hidden\" data-expanded-url=\"https://www.youtube.com/watch?v=X2UaFuJsqxk\" dir=\"ltr\" href=\"https://t.co/8paWAaLT7y\" rel=\"nofollow noopener\" target=\"_blank\" title=\"https://www.youtube.com/watch?v=X2UaFuJsqxk\"><span class=\"tco-ellipsis\"></span><span class=\"invisible\">https://www.</span><span class=\"js-display-url\">youtube.com/watch?v=X2UaFu</span><span class=\"invisible\">Jsqxk</span><span class=\"tco-ellipsis\"><span class=\"invisible\"> </span>…</span></a></p>, <p class=\"TweetTextSize TweetTextSize--normal js-tweet-text tweet-text\" data-aria-label-part=\"0\" lang=\"en\">InSight sol 451 (2020-03-03) low -93.6ºC (-136.4ºF) high -10.3ºC (13.4ºF)\n",
      "winds from the SSE at 6.3 m/s (14.2 mph) gusting to 19.9 m/s (44.5 mph)\n",
      "pressure at 6.30 hPa<a class=\"twitter-timeline-link u-hidden\" data-pre-embedded=\"true\" dir=\"ltr\" href=\"https://t.co/s9U5e7aC8b\">pic.twitter.com/s9U5e7aC8b</a></p>, <p class=\"TweetTextSize TweetTextSize--normal js-tweet-text tweet-text\" data-aria-label-part=\"0\" lang=\"en\">InSight sol 450 (2020-03-02) low -93.5ºC (-136.4ºF) high -10.4ºC (13.3ºF)\n",
      "winds from the SSW at 5.5 m/s (12.4 mph) gusting to 20.6 m/s (46.1 mph)\n",
      "pressure at 6.30 hPa<a class=\"twitter-timeline-link u-hidden\" data-pre-embedded=\"true\" dir=\"ltr\" href=\"https://t.co/82lzRqibcC\">pic.twitter.com/82lzRqibcC</a></p>, <p class=\"TweetTextSize TweetTextSize--normal js-tweet-text tweet-text\" data-aria-label-part=\"0\" lang=\"en\">360 Sol 2687 selfie<a class=\"twitter-timeline-link u-hidden\" data-expanded-url=\"https://roundme.com/tour/550044/view?welcome\" dir=\"ltr\" href=\"https://t.co/XOimctBHpo\" rel=\"nofollow noopener\" target=\"_blank\" title=\"https://roundme.com/tour/550044/view?welcome\"><span class=\"tco-ellipsis\"></span><span class=\"invisible\">https://</span><span class=\"js-display-url\">roundme.com/tour/550044/vi</span><span class=\"invisible\">ew?welcome</span><span class=\"tco-ellipsis\"><span class=\"invisible\"> </span>…</span></a></p>]\n"
     ]
    }
   ],
   "source": [
    "mars_tweet = []\n",
    "# Loop over div elements\n",
    "for result in results:\n",
    "    if (result.text):\n",
    "\n",
    "#       Append the description to the list\n",
    "        mars_tweet.append(result)\n",
    "\n",
    "print(mars_tweet)"
   ]
  },
  {
   "cell_type": "code",
   "execution_count": 31,
   "metadata": {},
   "outputs": [
    {
     "name": "stdout",
     "output_type": "stream",
     "text": [
      "------\n",
      "If you submitted your name, it’s aboard the Perseverance Mars Rover nowhttps://mars.nasa.gov/news/8634/109-million-names-now-aboard-nasas-perseverance-mars-rover …\n",
      "------\n",
      "Fred Calef (@cirquelar) keeper of the Martian maps talks other worldly cartography on the latest episode of the @TWIScience podcasthttps://www.twis.org/18-april-2020-episode-765-who-has-the-mars-maps/ …\n",
      "------\n",
      "Y’all sing Happy Birthday or Sweet Caroline, I’m doing this, in George Diller’s voicepic.twitter.com/rLQOcLKHNy\n",
      "------\n",
      " T-34 days until #EarthDay50\n",
      "It’s the #FirstDayOfSpring  in the Northern Hemisphere and for some, that means planting season. Tools originally designed for space can help farmers grow crops  here on Earth. \n",
      "https://go.nasa.gov/2U0dXBk pic.twitter.com/9KCQ5RzN5A\n",
      "------\n",
      "Happy #StPatricksDay!\n",
      "\n",
      "To celebrate, here's an image of Olympus Mons on #Mars—a volcano so big that, if you drove the equivalent distance from Malin Head to Mizen Head in Ireland, you'd *still* be on that damned volcano.pic.twitter.com/4BB13WBBiq\n",
      "------\n",
      "While the Smithsonian is closed, we can peruse the National @airandspace Museum's online collection,  Here's one of my favorites: https://airandspace.si.edu/collections/ pic.twitter.com/h9T5dcBSrx\n",
      "------\n",
      "A bit of good news from #Mars: our new approach of using the robotic arm to push the mole appears to be working! The teams @NASAJPL/@DLR_en are excited to see the images and plan to continue this approach over the next few weeks.  #SaveTheMole  \n",
      "\n",
      "FAQ: http://go.nasa.gov/HP3FAQ pic.twitter.com/5wYyn7IwVo\n",
      "------\n",
      "InSight sol 457 (2020-03-10) low -95.7ºC (-140.3ºF) high -9.1ºC (15.6ºF)\n",
      "winds from the SSE at 6.5 m/s (14.5 mph) gusting to 21.0 m/s (46.9 mph)\n",
      "pressure at 6.30 hPapic.twitter.com/2h0LKoSQrJ\n",
      "------\n",
      "InSight sol 456 (2020-03-08) low -94.6ºC (-138.3ºF) high -9.6ºC (14.7ºF)\n",
      "winds from the SSE at 5.8 m/s (12.9 mph) gusting to 20.2 m/s (45.2 mph)\n",
      "pressure at 6.30 hPa\n",
      "------\n",
      "Yep, this has been white balanced to closer match what we'd see on Earth. In reality, our eyes would see a redder hue to everything. Here's an example of what unprocessed, \"natural\", and \"balanced\" colours look like:pic.twitter.com/FOBKIQkDkw\n",
      "------\n",
      "InSight sol 455 (2020-03-08) low -95.4ºC (-139.8ºF) high -13.0ºC (8.5ºF)\n",
      "winds from the SSE at 6.0 m/s (13.5 mph) gusting to 20.7 m/s (46.2 mph)\n",
      "pressure at 6.40 hPapic.twitter.com/HrRcPTpSEQ\n",
      "------\n",
      "InSight sol 454 (2020-03-06) low -96.0ºC (-140.8ºF) high -12.7ºC (9.1ºF)\n",
      "winds from the SSE at 5.8 m/s (12.9 mph) gusting to 25.2 m/s (56.4 mph)\n",
      "pressure at 6.30 hPapic.twitter.com/SW2gBfJY3o\n",
      "------\n",
      "InSight sol 453 (2020-03-05) low -95.1ºC (-139.1ºF) high -10.8ºC (12.6ºF)\n",
      "winds from the SSW at 6.0 m/s (13.3 mph) gusting to 21.4 m/s (47.9 mph)\n",
      "pressure at 6.30 hPapic.twitter.com/8nEk9RxzXk\n",
      "------\n",
      "Congrats to 7th grader Alex Mather of Springfield, Virginia on the winning name, Perseverance and essay in the 2020 Mars Rover contest.pic.twitter.com/8I7pTLopta\n",
      "------\n",
      "Hi, I’m the rover formerly known as Mars 2020, please call me Perseverance, I’ll be heading to Mars in July with 7 instruments (including updated weather instruments) and 23 cameras.pic.twitter.com/XDx5s0cI5t\n",
      "------\n",
      "InSight sol 452 (2020-03-05) low -94.2ºC (-137.7ºF) high -9.2ºC (15.4ºF)\n",
      "winds from the SSW at 6.5 m/s (14.5 mph) gusting to 19.6 m/s (43.9 mph)\n",
      "pressure at 6.30 hPapic.twitter.com/oCMblxEv6O\n",
      "------\n",
      "Tour of the 1.8 Billion-Pixel Panoramic photo taken by the Curiosity Roverhttps://www.youtube.com/watch?v=X2UaFuJsqxk …\n",
      "------\n",
      "InSight sol 451 (2020-03-03) low -93.6ºC (-136.4ºF) high -10.3ºC (13.4ºF)\n",
      "winds from the SSE at 6.3 m/s (14.2 mph) gusting to 19.9 m/s (44.5 mph)\n",
      "pressure at 6.30 hPapic.twitter.com/s9U5e7aC8b\n",
      "------\n",
      "InSight sol 450 (2020-03-02) low -93.5ºC (-136.4ºF) high -10.4ºC (13.3ºF)\n",
      "winds from the SSW at 5.5 m/s (12.4 mph) gusting to 20.6 m/s (46.1 mph)\n",
      "pressure at 6.30 hPapic.twitter.com/82lzRqibcC\n",
      "------\n",
      "360 Sol 2687 selfiehttps://roundme.com/tour/550044/view?welcome …\n"
     ]
    }
   ],
   "source": [
    "\n",
    "# Print only the tweets\n",
    "for x in range(20):\n",
    "    \n",
    "        print(\"------\")\n",
    "        print(mars_tweet[x].text)\n"
   ]
  },
  {
   "cell_type": "code",
   "execution_count": 32,
   "metadata": {},
   "outputs": [
    {
     "name": "stdout",
     "output_type": "stream",
     "text": [
      "InSight sol 457 (2020-03-10) low -95.7ºC (-140.3ºF) high -9.1ºC (15.6ºF)\n",
      "winds from the SSE at 6.5 m/s (14.5 mph) gusting to 21.0 m/s (46.9 mph)\n",
      "pressure at 6.30 hPapic.twitter.com/2h0LKoSQrJ\n"
     ]
    }
   ],
   "source": [
    "# The latest Mars weather tweet from the page\n",
    "tweets = soup.find_all('div', class_='js-tweet-text-container')\n",
    "\n",
    "# Look for entries that display weather related words to exclude non weather related tweets \n",
    "for tweet in tweets:\n",
    "    mars_weather = tweet.find('p').text\n",
    "    if 'Sol' and 'pressure' in mars_weather:\n",
    "        print(mars_weather)\n",
    "        break\n",
    "    else:\n",
    "        pass\n"
   ]
  },
  {
   "cell_type": "markdown",
   "metadata": {},
   "source": [
    "# Mars Facts"
   ]
  },
  {
   "cell_type": "code",
   "execution_count": 33,
   "metadata": {},
   "outputs": [
    {
     "data": {
      "text/plain": [
       "[                      0                              1\n",
       " 0  Equatorial Diameter:                       6,792 km\n",
       " 1       Polar Diameter:                       6,752 km\n",
       " 2                 Mass:  6.39 × 10^23 kg (0.11 Earths)\n",
       " 3                Moons:            2 (Phobos & Deimos)\n",
       " 4       Orbit Distance:       227,943,824 km (1.38 AU)\n",
       " 5         Orbit Period:           687 days (1.9 years)\n",
       " 6  Surface Temperature:                   -87 to -5 °C\n",
       " 7         First Record:              2nd millennium BC\n",
       " 8          Recorded By:           Egyptian astronomers,\n",
       "   Mars - Earth Comparison             Mars            Earth\n",
       " 0               Diameter:         6,779 km        12,742 km\n",
       " 1                   Mass:  6.39 × 10^23 kg  5.97 × 10^24 kg\n",
       " 2                  Moons:                2                1\n",
       " 3      Distance from Sun:   227,943,824 km   149,598,262 km\n",
       " 4         Length of Year:   687 Earth days      365.24 days\n",
       " 5            Temperature:    -153 to 20 °C      -88 to 58°C,\n",
       "                       0                              1\n",
       " 0  Equatorial Diameter:                       6,792 km\n",
       " 1       Polar Diameter:                       6,752 km\n",
       " 2                 Mass:  6.39 × 10^23 kg (0.11 Earths)\n",
       " 3                Moons:            2 (Phobos & Deimos)\n",
       " 4       Orbit Distance:       227,943,824 km (1.38 AU)\n",
       " 5         Orbit Period:           687 days (1.9 years)\n",
       " 6  Surface Temperature:                   -87 to -5 °C\n",
       " 7         First Record:              2nd millennium BC\n",
       " 8          Recorded By:           Egyptian astronomers]"
      ]
     },
     "execution_count": 33,
     "metadata": {},
     "output_type": "execute_result"
    }
   ],
   "source": [
    "url = 'https://space-facts.com/mars/'\n",
    "tables = pd.read_html(url)\n",
    "tables"
   ]
  },
  {
   "cell_type": "code",
   "execution_count": 34,
   "metadata": {},
   "outputs": [
    {
     "data": {
      "text/html": [
       "<div>\n",
       "<style scoped>\n",
       "    .dataframe tbody tr th:only-of-type {\n",
       "        vertical-align: middle;\n",
       "    }\n",
       "\n",
       "    .dataframe tbody tr th {\n",
       "        vertical-align: top;\n",
       "    }\n",
       "\n",
       "    .dataframe thead th {\n",
       "        text-align: right;\n",
       "    }\n",
       "</style>\n",
       "<table border=\"1\" class=\"dataframe\">\n",
       "  <thead>\n",
       "    <tr style=\"text-align: right;\">\n",
       "      <th></th>\n",
       "      <th>Fact</th>\n",
       "      <th>Measurement</th>\n",
       "    </tr>\n",
       "  </thead>\n",
       "  <tbody>\n",
       "    <tr>\n",
       "      <th>0</th>\n",
       "      <td>Equatorial Diameter:</td>\n",
       "      <td>6,792 km</td>\n",
       "    </tr>\n",
       "    <tr>\n",
       "      <th>1</th>\n",
       "      <td>Polar Diameter:</td>\n",
       "      <td>6,752 km</td>\n",
       "    </tr>\n",
       "    <tr>\n",
       "      <th>2</th>\n",
       "      <td>Mass:</td>\n",
       "      <td>6.39 × 10^23 kg (0.11 Earths)</td>\n",
       "    </tr>\n",
       "    <tr>\n",
       "      <th>3</th>\n",
       "      <td>Moons:</td>\n",
       "      <td>2 (Phobos &amp; Deimos)</td>\n",
       "    </tr>\n",
       "    <tr>\n",
       "      <th>4</th>\n",
       "      <td>Orbit Distance:</td>\n",
       "      <td>227,943,824 km (1.38 AU)</td>\n",
       "    </tr>\n",
       "    <tr>\n",
       "      <th>5</th>\n",
       "      <td>Orbit Period:</td>\n",
       "      <td>687 days (1.9 years)</td>\n",
       "    </tr>\n",
       "    <tr>\n",
       "      <th>6</th>\n",
       "      <td>Surface Temperature:</td>\n",
       "      <td>-87 to -5 °C</td>\n",
       "    </tr>\n",
       "    <tr>\n",
       "      <th>7</th>\n",
       "      <td>First Record:</td>\n",
       "      <td>2nd millennium BC</td>\n",
       "    </tr>\n",
       "    <tr>\n",
       "      <th>8</th>\n",
       "      <td>Recorded By:</td>\n",
       "      <td>Egyptian astronomers</td>\n",
       "    </tr>\n",
       "  </tbody>\n",
       "</table>\n",
       "</div>"
      ],
      "text/plain": [
       "                   Fact                    Measurement\n",
       "0  Equatorial Diameter:                       6,792 km\n",
       "1       Polar Diameter:                       6,752 km\n",
       "2                 Mass:  6.39 × 10^23 kg (0.11 Earths)\n",
       "3                Moons:            2 (Phobos & Deimos)\n",
       "4       Orbit Distance:       227,943,824 km (1.38 AU)\n",
       "5         Orbit Period:           687 days (1.9 years)\n",
       "6  Surface Temperature:                   -87 to -5 °C\n",
       "7         First Record:              2nd millennium BC\n",
       "8          Recorded By:           Egyptian astronomers"
      ]
     },
     "execution_count": 34,
     "metadata": {},
     "output_type": "execute_result"
    }
   ],
   "source": [
    "mars_df = tables[0]\n",
    "mars_df.columns = ['Fact', 'Measurement']\n",
    "mars_df"
   ]
  },
  {
   "cell_type": "code",
   "execution_count": 35,
   "metadata": {},
   "outputs": [
    {
     "data": {
      "text/html": [
       "<div>\n",
       "<style scoped>\n",
       "    .dataframe tbody tr th:only-of-type {\n",
       "        vertical-align: middle;\n",
       "    }\n",
       "\n",
       "    .dataframe tbody tr th {\n",
       "        vertical-align: top;\n",
       "    }\n",
       "\n",
       "    .dataframe thead th {\n",
       "        text-align: right;\n",
       "    }\n",
       "</style>\n",
       "<table border=\"1\" class=\"dataframe\">\n",
       "  <thead>\n",
       "    <tr style=\"text-align: right;\">\n",
       "      <th></th>\n",
       "      <th>Measurement</th>\n",
       "    </tr>\n",
       "    <tr>\n",
       "      <th>Fact</th>\n",
       "      <th></th>\n",
       "    </tr>\n",
       "  </thead>\n",
       "  <tbody>\n",
       "    <tr>\n",
       "      <th>Equatorial Diameter:</th>\n",
       "      <td>6,792 km</td>\n",
       "    </tr>\n",
       "    <tr>\n",
       "      <th>Polar Diameter:</th>\n",
       "      <td>6,752 km</td>\n",
       "    </tr>\n",
       "    <tr>\n",
       "      <th>Mass:</th>\n",
       "      <td>6.39 × 10^23 kg (0.11 Earths)</td>\n",
       "    </tr>\n",
       "    <tr>\n",
       "      <th>Moons:</th>\n",
       "      <td>2 (Phobos &amp; Deimos)</td>\n",
       "    </tr>\n",
       "    <tr>\n",
       "      <th>Orbit Distance:</th>\n",
       "      <td>227,943,824 km (1.38 AU)</td>\n",
       "    </tr>\n",
       "    <tr>\n",
       "      <th>Orbit Period:</th>\n",
       "      <td>687 days (1.9 years)</td>\n",
       "    </tr>\n",
       "    <tr>\n",
       "      <th>Surface Temperature:</th>\n",
       "      <td>-87 to -5 °C</td>\n",
       "    </tr>\n",
       "    <tr>\n",
       "      <th>First Record:</th>\n",
       "      <td>2nd millennium BC</td>\n",
       "    </tr>\n",
       "    <tr>\n",
       "      <th>Recorded By:</th>\n",
       "      <td>Egyptian astronomers</td>\n",
       "    </tr>\n",
       "  </tbody>\n",
       "</table>\n",
       "</div>"
      ],
      "text/plain": [
       "                                        Measurement\n",
       "Fact                                               \n",
       "Equatorial Diameter:                       6,792 km\n",
       "Polar Diameter:                            6,752 km\n",
       "Mass:                 6.39 × 10^23 kg (0.11 Earths)\n",
       "Moons:                          2 (Phobos & Deimos)\n",
       "Orbit Distance:            227,943,824 km (1.38 AU)\n",
       "Orbit Period:                  687 days (1.9 years)\n",
       "Surface Temperature:                   -87 to -5 °C\n",
       "First Record:                     2nd millennium BC\n",
       "Recorded By:                   Egyptian astronomers"
      ]
     },
     "execution_count": 35,
     "metadata": {},
     "output_type": "execute_result"
    }
   ],
   "source": [
    "\n",
    "mars_df.set_index('Fact', inplace = True)\n",
    "mars_df"
   ]
  },
  {
   "cell_type": "code",
   "execution_count": 36,
   "metadata": {},
   "outputs": [],
   "source": [
    "facts = mars_df.to_html()\n"
   ]
  },
  {
   "cell_type": "markdown",
   "metadata": {},
   "source": [
    "# Mars Hemispheres"
   ]
  },
  {
   "cell_type": "code",
   "execution_count": 37,
   "metadata": {},
   "outputs": [],
   "source": [
    "# https://splinter.readthedocs.io/en/latest/drivers/chrome.html\n",
    "!which chromedriver"
   ]
  },
  {
   "cell_type": "code",
   "execution_count": 38,
   "metadata": {},
   "outputs": [],
   "source": [
    "executable_path = {'executable_path': '/usr/local/bin/chromedriver'}\n",
    "browser = Browser('chrome', **executable_path, headless=False)"
   ]
  },
  {
   "cell_type": "code",
   "execution_count": 39,
   "metadata": {},
   "outputs": [],
   "source": [
    "url = 'https://astrogeology.usgs.gov/search/results?q=hemisphere+enhanced&k1=target&v1=Mars'\n",
    "browser.visit(url)"
   ]
  },
  {
   "cell_type": "code",
   "execution_count": 40,
   "metadata": {},
   "outputs": [],
   "source": [
    "html = browser.html\n",
    "soup = BeautifulSoup(html, 'html.parser')\n",
    "# print(soup.prettify())\n"
   ]
  },
  {
   "cell_type": "code",
   "execution_count": 41,
   "metadata": {},
   "outputs": [
    {
     "data": {
      "text/plain": [
       "[<div class=\"item\"><a class=\"itemLink product-item\" href=\"/search/map/Mars/Viking/cerberus_enhanced\"><img alt=\"Cerberus Hemisphere Enhanced thumbnail\" class=\"thumb\" src=\"/cache/images/dfaf3849e74bf973b59eb50dab52b583_cerberus_enhanced.tif_thumb.png\"/></a><div class=\"description\"><a class=\"itemLink product-item\" href=\"/search/map/Mars/Viking/cerberus_enhanced\"><h3>Cerberus Hemisphere Enhanced</h3></a><span class=\"subtitle\" style=\"float:left\">image/tiff 21 MB</span><span class=\"pubDate\" style=\"float:right\"></span><br/><p>Mosaic of the Cerberus hemisphere of Mars projected into point perspective, a view similar to that which one would see from a spacecraft. This mosaic is composed of 104 Viking Orbiter images acquired…</p></div> <!-- end description --></div>,\n",
       " <div class=\"item\"><a class=\"itemLink product-item\" href=\"/search/map/Mars/Viking/schiaparelli_enhanced\"><img alt=\"Schiaparelli Hemisphere Enhanced thumbnail\" class=\"thumb\" src=\"/cache/images/7677c0a006b83871b5a2f66985ab5857_schiaparelli_enhanced.tif_thumb.png\"/></a><div class=\"description\"><a class=\"itemLink product-item\" href=\"/search/map/Mars/Viking/schiaparelli_enhanced\"><h3>Schiaparelli Hemisphere Enhanced</h3></a><span class=\"subtitle\" style=\"float:left\">image/tiff 35 MB</span><span class=\"pubDate\" style=\"float:right\"></span><br/><p>Mosaic of the Schiaparelli hemisphere of Mars projected into point perspective, a view similar to that which one would see from a spacecraft. The images were acquired in 1980 during early northern…</p></div> <!-- end description --></div>,\n",
       " <div class=\"item\"><a class=\"itemLink product-item\" href=\"/search/map/Mars/Viking/syrtis_major_enhanced\"><img alt=\"Syrtis Major Hemisphere Enhanced thumbnail\" class=\"thumb\" src=\"/cache/images/aae41197e40d6d4f3ea557f8cfe51d15_syrtis_major_enhanced.tif_thumb.png\"/></a><div class=\"description\"><a class=\"itemLink product-item\" href=\"/search/map/Mars/Viking/syrtis_major_enhanced\"><h3>Syrtis Major Hemisphere Enhanced</h3></a><span class=\"subtitle\" style=\"float:left\">image/tiff 25 MB</span><span class=\"pubDate\" style=\"float:right\"></span><br/><p>Mosaic of the Syrtis Major hemisphere of Mars projected into point perspective, a view similar to that which one would see from a spacecraft. This mosaic is composed of about 100 red and violet…</p></div> <!-- end description --></div>,\n",
       " <div class=\"item\"><a class=\"itemLink product-item\" href=\"/search/map/Mars/Viking/valles_marineris_enhanced\"><img alt=\"Valles Marineris Hemisphere Enhanced thumbnail\" class=\"thumb\" src=\"/cache/images/04085d99ec3713883a9a57f42be9c725_valles_marineris_enhanced.tif_thumb.png\"/></a><div class=\"description\"><a class=\"itemLink product-item\" href=\"/search/map/Mars/Viking/valles_marineris_enhanced\"><h3>Valles Marineris Hemisphere Enhanced</h3></a><span class=\"subtitle\" style=\"float:left\">image/tiff 27 MB</span><span class=\"pubDate\" style=\"float:right\"></span><br/><p>Mosaic of the Valles Marineris hemisphere of Mars projected into point perspective, a view similar to that which one would see from a spacecraft. The distance is 2500 kilometers from the surface of…</p></div> <!-- end description --></div>]"
      ]
     },
     "execution_count": 41,
     "metadata": {},
     "output_type": "execute_result"
    }
   ],
   "source": [
    "results = soup.find_all('div', class_=\"item\")\n",
    "results"
   ]
  },
  {
   "cell_type": "code",
   "execution_count": 42,
   "metadata": {},
   "outputs": [
    {
     "data": {
      "text/plain": [
       "[{'title': 'Cerberus Hemisphere Enhanced',\n",
       "  'img_url': 'https://astrogeology.usgs.gov/cache/images/cfa62af2557222a02478f1fcd781d445_cerberus_enhanced.tif_full.jpg'},\n",
       " {'title': 'Schiaparelli Hemisphere Enhanced',\n",
       "  'img_url': 'https://astrogeology.usgs.gov/cache/images/3cdd1cbf5e0813bba925c9030d13b62e_schiaparelli_enhanced.tif_full.jpg'},\n",
       " {'title': 'Syrtis Major Hemisphere Enhanced',\n",
       "  'img_url': 'https://astrogeology.usgs.gov/cache/images/ae209b4e408bb6c3e67b6af38168cf28_syrtis_major_enhanced.tif_full.jpg'},\n",
       " {'title': 'Valles Marineris Hemisphere Enhanced',\n",
       "  'img_url': 'https://astrogeology.usgs.gov/cache/images/7cf2da4bf549ed01c17f206327be4db7_valles_marineris_enhanced.tif_full.jpg'}]"
      ]
     },
     "execution_count": 42,
     "metadata": {},
     "output_type": "execute_result"
    }
   ],
   "source": [
    "# Store the main url\n",
    "base_url = 'https://astrogeology.usgs.gov'\n",
    "\n",
    "hemisphere_image_urls = []\n",
    "\n",
    "for result in results:\n",
    "    # scrape the title \n",
    "    title = result.find('h3').text\n",
    "    \n",
    "    \n",
    "    # Identify and return link to listing\n",
    "    link = result.find('a', class_='itemLink product-item')['href']\n",
    "    \n",
    "    # Visit the link that contains the full image website \n",
    "    browser.visit(base_url + link)\n",
    "    \n",
    "     # HTML Object of individual hemisphere information website \n",
    "    link = browser.html\n",
    "    \n",
    "    # Parse HTML with Beautiful Soup for every individual hemisphere information website \n",
    "    soup = BeautifulSoup( link, 'html.parser')\n",
    "    \n",
    "    # Retrieve full image source \n",
    "    img_url = base_url + soup.find('img', class_='wide-image')['src']\n",
    "    \n",
    "    # Append the retreived information into a list of dictionaries \n",
    "    hemisphere_image_urls.append({\"title\" : title, \"img_url\" : img_url})\n",
    "\n",
    "    \n",
    "\n",
    "hemisphere_image_urls"
   ]
  },
  {
   "cell_type": "markdown",
   "metadata": {},
   "source": [
    "# End of Notebook"
   ]
  },
  {
   "cell_type": "code",
   "execution_count": null,
   "metadata": {},
   "outputs": [],
   "source": []
  }
 ],
 "metadata": {
  "kernelspec": {
   "display_name": "Python 3",
   "language": "python",
   "name": "python3"
  },
  "language_info": {
   "codemirror_mode": {
    "name": "ipython",
    "version": 3
   },
   "file_extension": ".py",
   "mimetype": "text/x-python",
   "name": "python",
   "nbconvert_exporter": "python",
   "pygments_lexer": "ipython3",
   "version": "3.7.4"
  }
 },
 "nbformat": 4,
 "nbformat_minor": 4
}
